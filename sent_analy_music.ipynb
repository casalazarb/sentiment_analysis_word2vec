{
  "nbformat": 4,
  "nbformat_minor": 0,
  "metadata": {
    "colab": {
      "name": "sent_analy_music.ipynb",
      "provenance": [],
      "collapsed_sections": [],
      "machine_shape": "hm",
      "authorship_tag": "ABX9TyOJAOjhhyeJ38Ce8U2hz6al"
    },
    "kernelspec": {
      "name": "python3",
      "display_name": "Python 3"
    },
    "language_info": {
      "name": "python"
    },
    "gpuClass": "standard",
    "accelerator": "TPU"
  },
  "cells": [
    {
      "cell_type": "code",
      "execution_count": 1,
      "metadata": {
        "colab": {
          "base_uri": "https://localhost:8080/"
        },
        "id": "W35VlhJxsMku",
        "outputId": "b152579b-834b-4a34-815f-af863f76ce6d"
      },
      "outputs": [
        {
          "output_type": "stream",
          "name": "stdout",
          "text": [
            "Mounted at /content/drive\n"
          ]
        }
      ],
      "source": [
        "from google.colab import drive\n",
        "drive.mount('/content/drive')"
      ]
    },
    {
      "cell_type": "code",
      "source": [
        "!pip install langdetect"
      ],
      "metadata": {
        "colab": {
          "base_uri": "https://localhost:8080/"
        },
        "id": "vb6STaoCtrDx",
        "outputId": "65e7c822-17c6-4a89-cdb8-2caf9c642b27"
      },
      "execution_count": 2,
      "outputs": [
        {
          "output_type": "stream",
          "name": "stdout",
          "text": [
            "Looking in indexes: https://pypi.org/simple, https://us-python.pkg.dev/colab-wheels/public/simple/\n",
            "Collecting langdetect\n",
            "  Downloading langdetect-1.0.9.tar.gz (981 kB)\n",
            "\u001b[K     |████████████████████████████████| 981 kB 5.1 MB/s \n",
            "\u001b[?25hRequirement already satisfied: six in /usr/local/lib/python3.7/dist-packages (from langdetect) (1.15.0)\n",
            "Building wheels for collected packages: langdetect\n",
            "  Building wheel for langdetect (setup.py) ... \u001b[?25l\u001b[?25hdone\n",
            "  Created wheel for langdetect: filename=langdetect-1.0.9-py3-none-any.whl size=993242 sha256=6d9852e1856b455344e15549cc98ba8292b5a105f00da162a8a6675a0dbafd56\n",
            "  Stored in directory: /root/.cache/pip/wheels/c5/96/8a/f90c59ed25d75e50a8c10a1b1c2d4c402e4dacfa87f3aff36a\n",
            "Successfully built langdetect\n",
            "Installing collected packages: langdetect\n",
            "Successfully installed langdetect-1.0.9\n"
          ]
        }
      ]
    },
    {
      "cell_type": "code",
      "source": [
        "from psutil import virtual_memory\n",
        "ram_gb = virtual_memory().total / 1e9\n",
        "print('Your runtime has {:.1f} gigabytes of available RAM\\n'.format(ram_gb))"
      ],
      "metadata": {
        "colab": {
          "base_uri": "https://localhost:8080/"
        },
        "id": "0261SSKXEMYp",
        "outputId": "241ed55d-854b-4247-e0be-c44e935b5132"
      },
      "execution_count": 3,
      "outputs": [
        {
          "output_type": "stream",
          "name": "stdout",
          "text": [
            "Your runtime has 37.8 gigabytes of available RAM\n",
            "\n"
          ]
        }
      ]
    },
    {
      "cell_type": "code",
      "source": [
        "#Runtime(tab) > Change runtime type in the menu to enable a GPU accelerator, and then re-execute the code cell.\n",
        "tpu_info = !nvidia-smi\n",
        "tpu_info = '\\n'.join(tpu_info)\n",
        "if tpu_info.find('failed') >= 0:\n",
        "  print('Not connected to a GPU')\n",
        "else:\n",
        "  print(tpu_info)"
      ],
      "metadata": {
        "colab": {
          "base_uri": "https://localhost:8080/"
        },
        "id": "cZnVcE_WEOBP",
        "outputId": "144fe431-fcf7-4cbf-be87-d24d1696ecf1"
      },
      "execution_count": 6,
      "outputs": [
        {
          "output_type": "stream",
          "name": "stdout",
          "text": [
            "Not connected to a GPU\n"
          ]
        }
      ]
    },
    {
      "cell_type": "code",
      "source": [
        "#import libraries\n",
        "import pandas as pd\n",
        "import numpy as np\n",
        "import spacy\n",
        "import re\n",
        "import langdetect"
      ],
      "metadata": {
        "id": "flh2vDMRCZvy"
      },
      "execution_count": 7,
      "outputs": []
    },
    {
      "cell_type": "code",
      "source": [
        "#keras modules\n",
        "from keras.preprocessing.text import Tokenizer\n",
        "from keras.preprocessing.sequence import pad_sequences\n",
        "from keras.models import Sequential\n",
        "from keras.layers import LSTM, GRU, Dense, Dropout, Embedding, Bidirectional, SimpleRNN\n",
        "from keras.utils.np_utils import to_categorical"
      ],
      "metadata": {
        "id": "YrWIglTskPJo"
      },
      "execution_count": 8,
      "outputs": []
    },
    {
      "cell_type": "code",
      "source": [
        "#gensin modules\n",
        "from gensim.models import word2vec"
      ],
      "metadata": {
        "id": "53VDg4b2kfOk"
      },
      "execution_count": 9,
      "outputs": []
    },
    {
      "cell_type": "code",
      "source": [
        "#sci-kit learn module\n",
        "from sklearn.model_selection import train_test_split\n",
        "from sklearn.metrics import confusion_matrix"
      ],
      "metadata": {
        "id": "bWChhbetktW4"
      },
      "execution_count": 10,
      "outputs": []
    },
    {
      "cell_type": "code",
      "source": [
        "path = \"/content/drive/MyDrive/Colab Notebooks/proj_music/music_album_reviews.csv\"\n",
        "music = pd.read_csv(path)\n",
        "#change the name of the columns\n",
        "music = music.set_axis([\"review\", \"rating\"], axis=1)\n",
        "print(music.head(2))\n",
        "print(len(music.index))"
      ],
      "metadata": {
        "colab": {
          "base_uri": "https://localhost:8080/"
        },
        "id": "FjBCqH4CByEY",
        "outputId": "4528e55f-b435-4855-85de-712f93c5bee5"
      },
      "execution_count": 11,
      "outputs": [
        {
          "output_type": "stream",
          "name": "stdout",
          "text": [
            "                                              review  rating\n",
            "0  i think i actually under-rate ok computer if a...     5.0\n",
            "1  i get why radiohead rub a lot of people the wr...     5.0\n",
            "80271\n"
          ]
        }
      ]
    },
    {
      "cell_type": "code",
      "source": [
        "#drop all the rows where at least one element is missing\n",
        "music = music.dropna()\n",
        "print(music.head(2))\n",
        "print(len(music.index))"
      ],
      "metadata": {
        "colab": {
          "base_uri": "https://localhost:8080/"
        },
        "id": "2Jt673RCsz12",
        "outputId": "73f67cd0-5c36-4321-994c-69072de77b1f"
      },
      "execution_count": 12,
      "outputs": [
        {
          "output_type": "stream",
          "name": "stdout",
          "text": [
            "                                              review  rating\n",
            "0  i think i actually under-rate ok computer if a...     5.0\n",
            "1  i get why radiohead rub a lot of people the wr...     5.0\n",
            "78162\n"
          ]
        }
      ]
    },
    {
      "cell_type": "code",
      "source": [
        "#drop all the rows where there are only numbers(floats) in the reviews, reviews must be strings\n",
        "music = music[~music['review'].str.isnumeric()]\n",
        "print(music.head())\n",
        "print(len(music.index))"
      ],
      "metadata": {
        "colab": {
          "base_uri": "https://localhost:8080/"
        },
        "id": "0oL9q9IrvYuJ",
        "outputId": "2655f702-3f2b-44bc-9f74-cc9fa0b70db8"
      },
      "execution_count": 13,
      "outputs": [
        {
          "output_type": "stream",
          "name": "stdout",
          "text": [
            "                                              review  rating\n",
            "0  i think i actually under-rate ok computer if a...     5.0\n",
            "1  i get why radiohead rub a lot of people the wr...     5.0\n",
            "2  i would like to think i am good about not lett...     4.5\n",
            "3  there are radiohead devotees like there were o...     4.0\n",
            "4  i wrote a shining excellent review for this al...     5.0\n",
            "78152\n"
          ]
        }
      ]
    },
    {
      "cell_type": "code",
      "source": [
        "print(music.dtypes)\n",
        "calif_uni = set(music['rating'])\n",
        "print(calif_uni)\n",
        "print(np.mean(music['rating']))"
      ],
      "metadata": {
        "colab": {
          "base_uri": "https://localhost:8080/"
        },
        "id": "cNm9FQHfHdvP",
        "outputId": "9b94b975-ec10-4db3-988e-acadab1d9abf"
      },
      "execution_count": 14,
      "outputs": [
        {
          "output_type": "stream",
          "name": "stdout",
          "text": [
            "review     object\n",
            "rating    float64\n",
            "dtype: object\n",
            "{0.5, 1.5, 2.0, 2.5, 4.0, 4.5, 5.0, 3.0, 3.5, 1.0}\n",
            "4.2531988944620736\n"
          ]
        }
      ]
    },
    {
      "cell_type": "code",
      "source": [
        "#pythonic way calculate the number of words in each sentence\n",
        "def counting_words(sentence):\n",
        "  return len(sentence.split())\n",
        "\n",
        "lista_lens = list(map(counting_words, music['review']))\n",
        "\n",
        "print(sorted(lista_lens[0:5], reverse=True))\n",
        "print(np.mean(lista_lens[0:5]))"
      ],
      "metadata": {
        "colab": {
          "base_uri": "https://localhost:8080/"
        },
        "id": "xyd63V8OiFDL",
        "outputId": "a6ec3a59-5763-4039-fcf9-3d9d34d12ce9"
      },
      "execution_count": 15,
      "outputs": [
        {
          "output_type": "stream",
          "name": "stdout",
          "text": [
            "[1478, 998, 813, 505, 438]\n",
            "846.4\n"
          ]
        }
      ]
    },
    {
      "cell_type": "code",
      "source": [
        "#This function turn the sentence into lower caps, eliminate special characters and numbers an only one space between words\n",
        "def clean_sentence(sentence):\n",
        "  sentence = sentence.lower() #to lower\n",
        "  sentence = re.sub(pattern = '[^\\w\\s]', repl = ' ', string = sentence)\n",
        "  sentence = sentence.split() #to list\n",
        "  sentence = ' '.join(word for word in sentence if word.isalpha())#clean numbers and special characters\n",
        "  return sentence\n",
        "\n",
        "sent = \"THis is an ExamplE of the POWER, OF /&(&/()%$$%$#&, culiamera... 'fantochex'    ----    when tolo%&%meo\"\n",
        "print(clean_sentence(sent))"
      ],
      "metadata": {
        "colab": {
          "base_uri": "https://localhost:8080/"
        },
        "id": "kI96-JAKJQKP",
        "outputId": "65897fae-0ff6-42f1-e7ef-7e2e8fef8a96"
      },
      "execution_count": 16,
      "outputs": [
        {
          "output_type": "stream",
          "name": "stdout",
          "text": [
            "this is an example of the power of culiamera fantochex when tolo meo\n"
          ]
        }
      ]
    },
    {
      "cell_type": "code",
      "source": [
        "#map the clean sentence function to the column review\n",
        "cleaned_reviews = music['review'].map(clean_sentence)\n",
        "music['review'] = cleaned_reviews\n",
        "print(music.head())"
      ],
      "metadata": {
        "colab": {
          "base_uri": "https://localhost:8080/"
        },
        "id": "4G2o0yxzNsQg",
        "outputId": "62a8f567-1696-4302-d3e2-e7c4f5b149f8"
      },
      "execution_count": 17,
      "outputs": [
        {
          "output_type": "stream",
          "name": "stdout",
          "text": [
            "                                              review  rating\n",
            "0  i think i actually under rate ok computer if a...     5.0\n",
            "1  i get why radiohead rub a lot of people the wr...     5.0\n",
            "2  i would like to think i am good about not lett...     4.5\n",
            "3  there are radiohead devotees like there were o...     4.0\n",
            "4  i wrote a shining excellent review for this al...     5.0\n"
          ]
        }
      ]
    },
    {
      "cell_type": "code",
      "source": [
        "#create and add a column to df with the number of words by mapping the function counting words\n",
        "n_words = list(map(counting_words, music['review']))\n",
        "music['n_words'] = n_words\n",
        "print(music.head())"
      ],
      "metadata": {
        "colab": {
          "base_uri": "https://localhost:8080/"
        },
        "id": "Jzjj-ccvA6AE",
        "outputId": "cf61eb16-7b6d-4c75-98cb-18bbedb617f2"
      },
      "execution_count": 18,
      "outputs": [
        {
          "output_type": "stream",
          "name": "stdout",
          "text": [
            "                                              review  rating  n_words\n",
            "0  i think i actually under rate ok computer if a...     5.0      507\n",
            "1  i get why radiohead rub a lot of people the wr...     5.0     1004\n",
            "2  i would like to think i am good about not lett...     4.5     1492\n",
            "3  there are radiohead devotees like there were o...     4.0      439\n",
            "4  i wrote a shining excellent review for this al...     5.0      806\n"
          ]
        }
      ]
    },
    {
      "cell_type": "code",
      "source": [
        "print(min(music['n_words']))\n",
        "print(max(music['n_words']))\n",
        "print(np.mean(music['n_words']))"
      ],
      "metadata": {
        "colab": {
          "base_uri": "https://localhost:8080/"
        },
        "id": "dev5LZTDV3YC",
        "outputId": "4bd52ca7-f11f-4cd9-f05b-eb316edb3492"
      },
      "execution_count": 19,
      "outputs": [
        {
          "output_type": "stream",
          "name": "stdout",
          "text": [
            "0\n",
            "5953\n",
            "164.39128877060088\n"
          ]
        }
      ]
    },
    {
      "cell_type": "code",
      "source": [
        "#drop rows that meet certain condition, inplace True to not overwrite the df explicitly\n",
        "music.drop(music[music['n_words'] <= 5].index, inplace = True)\n",
        "print(min(music['n_words']))\n",
        "print(max(music['n_words']))\n",
        "print(np.mean(music['n_words']))"
      ],
      "metadata": {
        "colab": {
          "base_uri": "https://localhost:8080/"
        },
        "id": "dbl0rQccWgx0",
        "outputId": "25bfe012-0755-48a1-d45a-a8e29e4d6c17"
      },
      "execution_count": 20,
      "outputs": [
        {
          "output_type": "stream",
          "name": "stdout",
          "text": [
            "6\n",
            "5953\n",
            "169.45183298582702\n"
          ]
        }
      ]
    },
    {
      "cell_type": "code",
      "source": [
        "print(music.dtypes)\n",
        "print(type(music['review'][15]))"
      ],
      "metadata": {
        "colab": {
          "base_uri": "https://localhost:8080/"
        },
        "id": "cgaEoG0Yw1hZ",
        "outputId": "fe41ec77-dc64-4f14-c557-3f70690d61b5"
      },
      "execution_count": 21,
      "outputs": [
        {
          "output_type": "stream",
          "name": "stdout",
          "text": [
            "review      object\n",
            "rating     float64\n",
            "n_words      int64\n",
            "dtype: object\n",
            "<class 'str'>\n"
          ]
        }
      ]
    },
    {
      "cell_type": "code",
      "source": [
        "#map the detect fuction for language detections column review make a list of languages\n",
        "detect_lang = music['review'].map(langdetect.detect)\n",
        "music['detect_lang'] = detect_lang"
      ],
      "metadata": {
        "id": "X6bsWY8VbL9W"
      },
      "execution_count": 22,
      "outputs": []
    },
    {
      "cell_type": "code",
      "source": [
        "print(music.head(1))\n",
        "print(type(music['detect_lang'][0]))"
      ],
      "metadata": {
        "colab": {
          "base_uri": "https://localhost:8080/"
        },
        "id": "V-FCINDFxJmR",
        "outputId": "45b0816a-1bd3-45d8-ef8a-3837745cd7fc"
      },
      "execution_count": 23,
      "outputs": [
        {
          "output_type": "stream",
          "name": "stdout",
          "text": [
            "                                              review  rating  n_words  \\\n",
            "0  i think i actually under rate ok computer if a...     5.0      507   \n",
            "\n",
            "  detect_lang  \n",
            "0          en  \n",
            "<class 'str'>\n"
          ]
        }
      ]
    },
    {
      "cell_type": "code",
      "source": [
        "#drop rows that meet certain condition, inplace True to not overwrite the df explicitly \n",
        "music.drop(music[music['detect_lang'] != 'en'].index, inplace = True)"
      ],
      "metadata": {
        "id": "JyRslaDH3iL9"
      },
      "execution_count": 24,
      "outputs": []
    },
    {
      "cell_type": "code",
      "source": [
        "#reset the index, doesn't create a new column of indeces, does create a new copy by using inplace = True\n",
        "music.reset_index(drop=True ,inplace=True)"
      ],
      "metadata": {
        "id": "sSXoVh065VDT"
      },
      "execution_count": 25,
      "outputs": []
    },
    {
      "cell_type": "code",
      "source": [
        "print(len(music.index))"
      ],
      "metadata": {
        "colab": {
          "base_uri": "https://localhost:8080/"
        },
        "id": "CNq7Bgkg4pDr",
        "outputId": "6a4ecfef-5f64-47ad-d5b8-16e18c6af92f"
      },
      "execution_count": 26,
      "outputs": [
        {
          "output_type": "stream",
          "name": "stdout",
          "text": [
            "69409\n"
          ]
        }
      ]
    },
    {
      "cell_type": "code",
      "source": [
        "#Important parameters\n",
        "max_len_sentences = 600 #number of words in each of the sentences of matrix X\n",
        "window_words = 10 #window of words for context\n",
        "vec_size_words = 30 #number of elements in each word vectors"
      ],
      "metadata": {
        "id": "gKcZ0C0a4sPz"
      },
      "execution_count": 31,
      "outputs": []
    },
    {
      "cell_type": "code",
      "source": [
        "#corpus for word2vec -- corpus tokenized the result is a list of lists\n",
        "corpus_token = []\n",
        "for index in range(len(music['review'])):\n",
        "  corpus_token.append(music['review'][index].split(' '))\n",
        "print(corpus_token[:2])"
      ],
      "metadata": {
        "colab": {
          "base_uri": "https://localhost:8080/"
        },
        "id": "aJH-jlpw7TIp",
        "outputId": "87a56a5b-516a-443a-d8bf-a2f81d8f3d2d"
      },
      "execution_count": 32,
      "outputs": [
        {
          "output_type": "stream",
          "name": "stdout",
          "text": [
            "[['i', 'think', 'i', 'actually', 'under', 'rate', 'ok', 'computer', 'if', 'anything', 'that', 'is', 'bonkers', 'right', 'it', 'is', 'been', 'my', 'favourite', 'album', 'for', 'over', 'two', 'decades', 'now', 'but', 'that', 'right', 'there', 'is', 'exactly', 'the', 'problem', 'i', 'heard', 'it', 'when', 'i', 'was', 'and', 'it', 'was', 'maybe', 'the', 'fourth', 'or', 'fifth', 'album', 'of', 'any', 'kind', 'i', 'would', 'ever', 'truly', 'paid', 'attention', 'to', 'front', 'to', 'back', 'and', 'the', 'first', 'that', 'was', 'not', 'essentially', 'forced', 'upon', 'me', 'by', 'my', 'parents', 'or', 'general', 'peer', 'pressure', 'at', 'school', 'it', 'was', 'the', 'first', 'time', 'i', 'would', 'ever', 'decided', 'it', 'might', 'be', 'worth', 'actually', 'trying', 'out', 'music', 'for', 'real', 'and', 'the', 'very', 'first', 'album', 'i', 'ever', 'landed', 'on', 'just', 'so', 'happened', 'to', 'be', 'the', 'best', 'one', 'nah', 'it', 'is', 'far', 'too', 'convenient', 'i', 'keep', 'side', 'eyeing', 'it', 'uneasily', 'when', 'i', 'see', 'it', 'sitting', 'at', 'the', 'top', 'of', 'my', 'favourite', 'albums', 'list', 'surely', 'the', 'rush', 'of', 'hearing', 'it', 'now', 'cannot', 'be', 'the', 'same', 'as', 'it', 'was', 'when', 'i', 'was', 'hearing', 'it', 'as', 'a', 'teenager', 'surely', 'at', 'least', 'one', 'of', 'the', 'albums', 'i', 'have', 'heard', 'since', 'has', 'surpassed', 'it', 'right', 'and', 'yet', 'i', 'have', 'been', 'having', 'this', 'thought', 'repeatedly', 'for', 'well', 'over', 'a', 'decade', 'now', 'and', 'every', 'time', 'i', 'come', 'back', 'to', 'it', 'i', 'am', 'absolutely', 'blown', 'away', 'i', 'think', 'to', 'myself', 'that', 'surely', 'paranoid', 'android', 'will', 'not', 'have', 'that', 'power', 'when', 'the', 'shock', 'of', 'the', 'multi', 'part', 'song', 'structure', 'has', 'worn', 'off', 'surely', 'subterranean', 'homesick', 'alien', 'will', 'not', 'sound', 'as', 'profoundly', 'spacious', 'distant', 'and', 'yearning', 'as', 'it', 'did', 'back', 'in', 'those', 'long', 'distant', 'days', 'when', 'it', 'was', 'my', 'favourite', 'song', 'surely', 'exit', 'music', 'for', 'a', 'film', 'will', 'not', 'still', 'send', 'those', 'shivers', 'flying', 'up', 'my', 'spine', 'surely', 'let', 'down', 'will', 'not', 'be', 'so', 'emotionally', 'overwhelming', 'surely', 'climbing', 'up', 'the', 'walls', 'will', 'not', 'still', 'feel', 'so', 'terrifying', 'surely', 'at', 'some', 'point', 'no', 'surprises', 'will', 'stop', 'sounding', 'so', 'damn', 'pretty', 'and', 'feeling', 'so', 'damn', 'desolate', 'surely', 'lucky', 'will', 'not', 'soar', 'so', 'high', 'and', 'yet', 'every', 'time', 'i', 'go', 'back', 'and', 'check', 'i', 'find', 'that', 'all', 'of', 'those', 'things', 'are', 'true', 'and', 'more', 'the', 'other', 'songs', 'have', 'only', 'grown', 'in', 'my', 'estimation', 'since', 'the', 'tourist', 'has', 'stopped', 'feeling', 'like', 'one', 'of', 'the', 'weak', 'points', 'here', 'and', 'screamed', 'all', 'the', 'way', 'up', 'to', 'becoming', 'one', 'of', 'my', 'favourite', 'songs', 'in', 'their', 'catalogue', 'and', 'the', 'surprising', 'coldness', 'of', 'electioneering', 'has', 'really', 'started', 'to', 'draw', 'me', 'in', 'it', 'just', 'somehow', 'keeps', 'getting', 'better', 'every', 'time', 'i', 'hear', 'it', 'so', 'yes', 'it', 'turns', 'out', 'that', 'by', 'total', 'fluke', 'my', 'first', 'ever', 'attempt', 'to', 'find', 'a', 'favourite', 'album', 'was', 'the', 'only', 'one', 'i', 'ever', 'needed', 'and', 'as', 'much', 'as', 'i', 'have', 'loved', 'spending', 'so', 'long', 'trying', 'to', 'find', 'something', 'better', 'and', 'as', 'much', 'as', 'i', 'will', 'probably', 'continue', 'to', 'do', 'so', 'for', 'as', 'long', 'as', 'i', 'am', 'alive', 'it', 'is', 'probably', 'a', 'fruitless', 'endeavour', 'ok', 'computer', 'man', 'what', 'a', 'fucking', 'album', 'so', 'yeah', 'apologies', 'if', 'you', 'are', 'one', 'of', 'the', 'many', 'many', 'people', 'who', 'favourited', 'the', 'previous', 'version', 'of', 'this', 'review', 'but', 'it', 'was', 'a', 'complete', 'load', 'of', 'shite', 'and', 'frankly', 'you', 'should', 'have', 'known', 'better'], ['i', 'get', 'why', 'radiohead', 'rub', 'a', 'lot', 'of', 'people', 'the', 'wrong', 'way', 'a', 'lot', 'of', 'people', 'just', 'find', 'them', 'too', 'cold', 'and', 'thom', 'yorke', 'has', 'one', 'of', 'those', 'voices', 'that', 'will', 'drive', 'a', 'lot', 'of', 'people', 'batty', 'they', 'are', 'also', 'such', 'an', 'enormously', 'acclaimed', 'band', 'that', 'a', 'little', 'backlash', 'was', 'just', 'inevitable', 'plus', 'even', 'i', 'find', 'their', 'image', 'as', 'the', 'self', 'ordained', 'darkest', 'weirdest', 'band', 'on', 'earth', 'a', 'little', 'excessive', 'and', 'i', 'gave', 'this', 'album', 'five', 'stars', 'oh', 'and', 'did', 'i', 'mentioned', 'how', 'widely', 'imitated', 'they', 'are', 'we', 'live', 'in', 'a', 'world', 'where', 'bands', 'like', 'coldplay', 'and', 'muse', 'and', 'keane', 'diluted', 'this', 'sound', 'into', 'something', 'a', 'little', 'more', 'radio', 'friendly', 'and', 'made', 'buckets', 'of', 'money', 'off', 'it', 'in', 'cases', 'like', 'that', 'you', 'could', 'not', 'be', 'blamed', 'if', 'you', 'wonder', 'does', 'the', 'original', 'stand', 'up', 'after', 'all', 'well', 'i', 'have', 'got', 'some', 'nitpicks', 'of', 'my', 'own', 'electioneering', 'is', 'not', 'quite', 'the', 'headbangers', 'extravaganza', 'it', 'clearly', 'wants', 'to', 'be', 'great', 'guitars', 'at', 'the', 'end', 'though', 'while', 'fitter', 'happier', 'still', 'sounds', 'a', 'little', 'too', 'edgy', 'for', 'my', 'liking', 'is', 'not', 'there', 'a', 'nine', 'inch', 'nails', 'b', 'side', 'called', 'a', 'pig', 'in', 'a', 'cage', 'on', 'antibiotics', 'if', 'i', 'ever', 'bust', 'this', 'score', 'down', 'to', 'a', 'it', 'is', 'probably', 'because', 'they', 'put', 'these', 'two', 'right', 'in', 'a', 'row', 'my', 'opinion', 'on', 'exit', 'music', 'for', 'a', 'film', 'depends', 'on', 'my', 'mood', 'sometimes', 'i', 'get', 'caught', 'up', 'in', 'the', 'gothic', 'drama', 'of', 'the', 'whole', 'thing', 'and', 'other', 'times', 'it', 'just', 'seems', 'like', 'a', 'whole', 'lot', 'of', 'overheated', 'nothing', 'in', 'other', 'words', 'i', 'am', 'not', 'quite', 'ready', 'to', 'go', 'out', 'and', 'say', 'ok', 'computer', 'is', 'a', 'perfect', 'album', 'i', 'would', 'have', 'said', 'that', 'at', 'one', 'point', 'a', 'less', 'mature', 'point', 'in', 'my', 'life', 'indeed', 'but', 'you', 'know', 'how', 'it', 'is', 'you', 'get', 'older', 'and', 'that', 'album', 'you', 'loved', 'so', 'much', 'shows', 'a', 'few', 'of', 'its', 'rough', 'edges', 'yet', 'the', 'best', 'songs', 'on', 'this', 'album', 'really', 'are', 'as', 'good', 'as', 'you', 'have', 'heard', 'pretty', 'much', 'all', 'of', 'them', 'i', 'would', 'hesitate', 'to', 'call', 'subterranean', 'homesick', 'alien', 'a', 'masterpiece', 'but', 'its', 'subtly', 'tricky', 'arrangement', 'and', 'much', 'needed', 'humor', 'make', 'it', 'an', 'important', 'addition', 'to', 'the', 'album', 'you', 'have', 'just', 'got', 'to', 'lighten', 'things', 'up', 'sometimes', 'because', 'this', 'record', 'gets', 'heavy', 'sometimes', 'in', 'terms', 'of', 'the', 'guitars', 'they', 'tear', 'some', 'shit', 'up', 'in', 'the', 'loud', 'parts', 'of', 'paranoid', 'android', 'but', 'more', 'in', 'terms', 'of', 'the', 'emotions', 'this', 'album', 'is', 'one', 'negative', 'trip', 'my', 'friends', 'android', 'lurches', 'between', 'queasy', 'acoustic', 'guitars', 'wall', 'rattling', 'riffs', 'and', 'goth', 'prog', 'creepiness', 'in', 'brilliant', 'fashion', 'think', 'how', 'happiness', 'is', 'a', 'warm', 'gun', 'constantly', 'keeps', 'you', 'off', 'your', 'kilter', 'but', 'the', 'release', 'is', 'much', 'different', 'climbing', 'up', 'the', 'walls', 'plunges', 'you', 'deep', 'into', 'some', 'horror', 'movie', 'shit', 'with', 'huge', 'drums', 'processed', 'vocals', 'yorke', 'let', 'us', 'some', 'bloodcurdling', 'screams', 'loose', 'and', 'some', 'of', 'greenwoods', 'earliest', 'string', 'arrangements', 'even', 'no', 'surprises', 'which', 'musically', 'is', 'almost', 'mccartney', 'esque', 'in', 'its', 'mellow', 'lull', 'has', 'some', 'dark', 'fucking', 'lyrics', 'radiohead', 'plunges', 'you', 'into', 'a', 'dark', 'and', 'alienating', 'world', 'with', 'this', 'album', 'is', 'what', 'i', 'am', 'saying', 'here', 'normally', 'this', 'kind', 'of', 'relentless', 'grimness', 'puts', 'me', 'off', 'pretty', 'sure', 'i', 'have', 'raised', 'this', 'complaint', 'about', 'pink', 'floyd', 'but', 'radiohead', 'knows', 'their', 'way', 'around', 'a', 'song', 'the', 'tunes', 'i', 'mentioned', 'above', 'are', 'spectacularly', 'well', 'crafted', 'androids', 'multipart', 'structure', 'is', 'no', 'mere', 'grab', 'bag', 'each', 'part', 'not', 'only', 'flows', 'with', 'but', 'builds', 'onto', 'the', 'one', 'before', 'it', 'climbing', 'up', 'the', 'walls', 'earns', 'its', 'explosive', 'ending', 'the', 'fireworks', 'is', 'always', 'just', 'waiting', 'there', 'so', 'when', 'they', 'finally', 'hit', 'they', 'feel', 'like', 'the', 'most', 'natural', 'development', 'no', 'surprises', 'is', 'plenty', 'lovely', 'but', 'with', 'an', 'ominous', 'edge', 'and', 'hey', 'there', 'is', 'more', 'where', 'that', 'came', 'from', 'take', 'my', 'personal', 'favorite', 'let', 'down', 'this', 'ones', 'best', 'known', 'for', 'its', 'third', 'verse', 'where', 'thom', 'yorke', 'duets', 'with', 'himself', 'it', 'is', 'a', 'soaring', 'and', 'spectacular', 'moment', 'the', 'album', 'at', 'its', 'most', 'emotional', 'and', 'yearning', 'and', 'it', 'gets', 'there', 'by', 'way', 'of', 'a', 'tense', 'but', 'lovely', 'keyboard', 'solo', 'even', 'before', 'all', 'that', 'kicks', 'in', 'check', 'out', 'the', 'blend', 'of', 'icy', 'guitars', 'and', 'ringo', 'style', 'drums', 'that', 'move', 'the', 'verses', 'and', 'choruses', 'there', 'is', 'in', 'short', 'a', 'real', 'attention', 'to', 'sonic', 'detail', 'here', 'the', 'details', 'why', 'i', 'never', 'minded', 'the', 'beatles', 'lift', 'on', 'karma', 'police', 'not', 'only', 'does', 'the', 'piano', 'part', 'fit', 'in', 'with', 'the', 'songs', 'soft', 'chorus', 'beautifully', 'but', 'the', 'textures', 'in', 'the', 'coda', 'are', 'pure', 'radiohead', 'those', 'five', 'are', 'the', 'biggies', 'for', 'most', 'people', 'but', 'the', 'cool', 'thing', 'about', 'this', 'album', 'is', 'there', 'is', 'a', 'lot', 'going', 'on', 'here', 'somehow', 'i', 'have', 'made', 'it', 'alll', 'this', 'way', 'without', 'even', 'mentioning', 'the', 'opener', 'airbag', 'shame', 'on', 'me', 'what', 'a', 'great', 'song', 'the', 'atmospheric', 'guitar', 'sprinkles', 'of', 'keyboards', 'and', 'cello', 'hook', 'might', 'not', 'surprise', 'you', 'but', 'the', 'song', 'is', 'also', 'kind', 'of', 'funky', 'great', 'beat', 'here', 'and', 'a', 'great', 'bassline', 'too', 'radioheads', 'rhythm', 'section', 'does', 'not', 'get', 'a', 'lot', 'of', 'attention', 'but', 'they', 'deserve', 'a', 'lot', 'of', 'credit', 'for', 'shaping', 'their', 'sound', 'they', 'do', 'not', 'get', 'as', 'much', 'attention', 'on', 'the', 'closer', 'the', 'waltzing', 'tourist', 'but', 'that', 'is', 'also', 'a', 'feast', 'of', 'sound', 'check', 'out', 'the', 'dreamy', 'country', 'guitars', 'the', 'mellotron', 'choir', 'even', 'the', 'little', 'ding', 'of', 'a', 'triangle', 'at', 'the', 'end', 'while', 'we', 'are', 'in', 'the', 'albums', 'closing', 'stretch', 'i', 'have', 'always', 'really', 'enjoyed', 'lucky', 'yorkes', 'soaring', 'vocal', 'and', 'greenwoods', 'most', 'balls', 'out', 'bombastic', 'guitar', 'make', 'a', 'great', 'pair', 'on', 'this', 'one', 'i', 'guess', 'my', 'only', 'question', 'is', 'what', 'to', 'do', 'about', 'those', 'two', 'weaker', 'tracks', 'they', 'had', 'some', 'great', 'material', 'in', 'the', 'vaults', 'the', 'trip', 'hoppy', 'instrumental', 'meeting', 'in', 'the', 'aisle', 'would', 'have', 'made', 'a', 'much', 'better', 'transition', 'than', 'fitter', 'happier', 'and', 'pearly', 'rocks', 'much', 'better', 'than', 'electioneering', 'i', 'also', 'wish', 'polyethylene', 'had', 'found', 'a', 'home', 'on', 'an', 'album', 'to', 'my', 'ears', 'it', 'is', 'one', 'of', 'radioheads', 'better', 'tracks', 'with', 'a', 'big', 'tonal', 'shift', 'i', 'have', 'always', 'really', 'loved', 'still', 'we', 'got', 'the', 'album', 'we', 'got', 'not', 'one', 'of', 'those', 'albums', 'where', 'every', 'song', 'is', 'a', 'total', 'gem', 'but', 'an', 'album', 'whose', 'high', 'points', 'are', 'so', 'dazzling', 'i', 'cannot', 'help', 'but', 'go', 'the', 'full', 'five']]\n"
          ]
        }
      ]
    },
    {
      "cell_type": "code",
      "source": [
        "#word2vec running w2v model to create word vectors, each word is going to be represented as a vector\n",
        "w2v_model = word2vec.Word2Vec(corpus_token, min_count=1, size = vec_size_words, window = window_words, iter = 50)\n",
        "w2v_model.wv.most_similar(['favourite'], topn=3)"
      ],
      "metadata": {
        "colab": {
          "base_uri": "https://localhost:8080/"
        },
        "id": "SU1fTzVu7UWj",
        "outputId": "8c2b45a2-17f6-4957-c94d-0fd84dbb57c3"
      },
      "execution_count": 33,
      "outputs": [
        {
          "output_type": "stream",
          "name": "stderr",
          "text": [
            "WARNING:gensim.models.base_any2vec:consider setting layer size to a multiple of 4 for greater performance\n"
          ]
        },
        {
          "output_type": "execute_result",
          "data": {
            "text/plain": [
              "[('favorite', 0.9962131977081299),\n",
              " ('fave', 0.9310210347175598),\n",
              " ('fav', 0.8619124293327332)]"
            ]
          },
          "metadata": {},
          "execution_count": 33
        }
      ]
    },
    {
      "cell_type": "code",
      "source": [
        "#Find the closest words to a word reference according to the cosine similarity of the w2v model \n",
        "try:\n",
        "  print(w2v_model.wv.most_similar(['beautiful'], topn=3))\n",
        "except:\n",
        "  print(\"word not in the corpus\")"
      ],
      "metadata": {
        "colab": {
          "base_uri": "https://localhost:8080/"
        },
        "id": "0f5gT6Ytf0aY",
        "outputId": "bfa469bb-ee24-4698-f1f7-30400e4630fb"
      },
      "execution_count": 34,
      "outputs": [
        {
          "output_type": "stream",
          "name": "stdout",
          "text": [
            "[('gorgeous', 0.9342557191848755), ('haunting', 0.8774575591087341), ('uplifting', 0.8731911778450012)]\n"
          ]
        }
      ]
    },
    {
      "cell_type": "code",
      "source": [
        "#Find the closest words to a word reference according to the cosine similarity of the w2v model\n",
        "try:\n",
        "  print(w2v_model.wv.most_similar(['power'], topn=3))\n",
        "except:\n",
        "  print(\"word not in the corpus\")"
      ],
      "metadata": {
        "colab": {
          "base_uri": "https://localhost:8080/"
        },
        "id": "ToGCZcFngMqT",
        "outputId": "88d3abbd-ff8c-424f-9794-525bd782b3b6"
      },
      "execution_count": 35,
      "outputs": [
        {
          "output_type": "stream",
          "name": "stdout",
          "text": [
            "[('energy', 0.7943024635314941), ('intensity', 0.7607317566871643), ('fury', 0.7553068399429321)]\n"
          ]
        }
      ]
    },
    {
      "cell_type": "code",
      "source": [
        "#operation with words\n",
        "diff = w2v_model.wv['song'] - w2v_model.wv['lyrics']\n",
        "w2v_model.wv.most_similar(positive=[diff], topn=3)"
      ],
      "metadata": {
        "colab": {
          "base_uri": "https://localhost:8080/"
        },
        "id": "s-wCc4kugpUH",
        "outputId": "7a258f58-cde7-49fe-fdbd-44d15b3a345f"
      },
      "execution_count": 36,
      "outputs": [
        {
          "output_type": "execute_result",
          "data": {
            "text/plain": [
              "[('track', 0.6699579954147339),\n",
              " ('note', 0.6582359075546265),\n",
              " ('summermoroderbellottes', 0.6379653215408325)]"
            ]
          },
          "metadata": {},
          "execution_count": 36
        }
      ]
    },
    {
      "cell_type": "code",
      "source": [
        "#corpus token, max length of sentences in each review\n",
        "corpus_max_len = []\n",
        "\n",
        "#create the data set with the word vectors instead of words\n",
        "for lista in corpus_token:\n",
        "  lista_lim = []\n",
        "  for jindex, word in enumerate(lista):\n",
        "    if jindex < max_len_sentences:#maximum number of words in the sentence\n",
        "      lista_lim.append(word)\n",
        "    else:\n",
        "      continue\n",
        "  corpus_max_len.append(lista_lim)#this list of lists again"
      ],
      "metadata": {
        "id": "mxREsyft7gL8"
      },
      "execution_count": 37,
      "outputs": []
    },
    {
      "cell_type": "code",
      "source": [
        "lenghts = []\n",
        "for lista in corpus_max_len:\n",
        "  lenghts.append(len(lista))\n",
        "\n",
        "print(max(lenghts))"
      ],
      "metadata": {
        "colab": {
          "base_uri": "https://localhost:8080/"
        },
        "id": "3pkbjn9XiYf9",
        "outputId": "8ebef493-99b8-45b9-f79f-b2d45e5c6387"
      },
      "execution_count": 38,
      "outputs": [
        {
          "output_type": "stream",
          "name": "stdout",
          "text": [
            "600\n"
          ]
        }
      ]
    },
    {
      "cell_type": "code",
      "source": [
        "def word_into_vector(word):\n",
        "  vector_word = w2v_model.wv['word'].tolist()\n",
        "  return vector_word\n",
        "\n",
        "corpus_vec = []\n",
        "#create the data set with the word vectors instead of words\n",
        "for lista in corpus_max_len:\n",
        "  word_vec = list(map(word_into_vector, lista))\n",
        "  corpus_vec.append(word_vec)"
      ],
      "metadata": {
        "id": "B0JRMo4M8C-D"
      },
      "execution_count": 60,
      "outputs": []
    },
    {
      "cell_type": "code",
      "source": [
        "print(len(corpus_vec))\n",
        "print(len(corpus_vec[15]))\n",
        "print(len(corpus_vec[0][0]))\n",
        "print(type(corpus_vec))\n",
        "print(type(corpus_vec[0]))\n",
        "print(type(corpus_vec[0][0]))"
      ],
      "metadata": {
        "colab": {
          "base_uri": "https://localhost:8080/"
        },
        "id": "6_uNOCUMj4sX",
        "outputId": "d9b395e5-b99a-435a-f8fb-b2266b1d818b"
      },
      "execution_count": 61,
      "outputs": [
        {
          "output_type": "stream",
          "name": "stdout",
          "text": [
            "69409\n",
            "600\n",
            "30\n",
            "<class 'list'>\n",
            "<class 'list'>\n",
            "<class 'list'>\n"
          ]
        }
      ]
    },
    {
      "cell_type": "code",
      "source": [
        "#padding\n",
        "vector_pad = [0] * 30 #vector of zeros to pad when there is no word\n",
        "corpus_vec_pad = []\n",
        "for review in corpus_vec:\n",
        "  len_pad = max_len_sentences - len(review)\n",
        "  for kindex in range(len_pad):\n",
        "    review.append(vector_pad)\n",
        "  corpus_vec_pad.append(review)"
      ],
      "metadata": {
        "id": "FVJprssF8Pkb"
      },
      "execution_count": 62,
      "outputs": []
    },
    {
      "cell_type": "code",
      "source": [
        "print(len(corpus_vec_pad))\n",
        "print(len(corpus_vec_pad[65000]))\n",
        "print(len(corpus_vec_pad[1000][0]))"
      ],
      "metadata": {
        "colab": {
          "base_uri": "https://localhost:8080/"
        },
        "id": "5Sp8ZTwJSCC7",
        "outputId": "bb414e0f-3cc5-4b4a-f3ea-5a90ecd37975"
      },
      "execution_count": 68,
      "outputs": [
        {
          "output_type": "stream",
          "name": "stdout",
          "text": [
            "69409\n",
            "600\n",
            "30\n"
          ]
        }
      ]
    },
    {
      "cell_type": "code",
      "source": [
        "#create labels according to the rating given to each review\n",
        "def create_labels(rating):\n",
        "  if rating <= 2:\n",
        "    return 0\n",
        "  elif rating <= 3.5:\n",
        "    return 1\n",
        "  else:\n",
        "    return 2"
      ],
      "metadata": {
        "id": "Oi_T8Ay7WtO8"
      },
      "execution_count": 79,
      "outputs": []
    },
    {
      "cell_type": "code",
      "source": [
        "#create a column with the labels\n",
        "music['label'] = music['rating'].map(create_labels)\n",
        "print(music.loc[89])"
      ],
      "metadata": {
        "colab": {
          "base_uri": "https://localhost:8080/"
        },
        "id": "kYjoXe1xYixs",
        "outputId": "e92ec03a-ca46-49ff-c667-392360d51f07"
      },
      "execution_count": 80,
      "outputs": [
        {
          "output_type": "stream",
          "name": "stdout",
          "text": [
            "review         what other album inspires so many unsubstantia...\n",
            "rating                                                       3.5\n",
            "n_words                                                      424\n",
            "detect_lang                                                   en\n",
            "label                                                          1\n",
            "Name: 89, dtype: object\n"
          ]
        }
      ]
    },
    {
      "cell_type": "code",
      "source": [
        "a = to_categorical([0, 1, 2, 3,3,2,1,0], num_classes=4)"
      ],
      "metadata": {
        "id": "-uRnoXbdaT0X"
      },
      "execution_count": 81,
      "outputs": []
    },
    {
      "cell_type": "code",
      "source": [
        "#Create X matrix and Y labels\n",
        "Y = to_categorical(music['label'], num_classes=3)\n",
        "X = np.array(corpus_vec_pad)"
      ],
      "metadata": {
        "id": "g2-5BvQg3ugA"
      },
      "execution_count": 82,
      "outputs": []
    },
    {
      "cell_type": "code",
      "source": [
        "print(Y.shape)\n",
        "print(X.shape)"
      ],
      "metadata": {
        "colab": {
          "base_uri": "https://localhost:8080/"
        },
        "id": "3VoRuHHX6BfO",
        "outputId": "a5d3208a-8f03-4783-fd8f-686d1730cab3"
      },
      "execution_count": 85,
      "outputs": [
        {
          "output_type": "stream",
          "name": "stdout",
          "text": [
            "(69409, 3)\n",
            "(69409, 600, 30)\n"
          ]
        }
      ]
    },
    {
      "cell_type": "code",
      "source": [
        "#train - test split\n",
        "x_train, x_test, y_train, y_test = train_test_split(X, Y, random_state=1, train_size = .75)"
      ],
      "metadata": {
        "id": "CAOdeNWFcsZO"
      },
      "execution_count": null,
      "outputs": []
    },
    {
      "cell_type": "code",
      "source": [
        "#Build model LSTM, dense layer has 3 nodes one for each class\n",
        "model= Sequential()\n",
        "model.add(LSTM(units = 128))\n",
        "model.add(Dense(units=3, activation='softmax'))"
      ],
      "metadata": {
        "id": "mwjyi05Df8L-"
      },
      "execution_count": null,
      "outputs": []
    },
    {
      "cell_type": "code",
      "source": [
        "#compile the model\n",
        "model.compile(loss='categorical_crossentropy', optimizer='adam', metrics=['accuracy'])"
      ],
      "metadata": {
        "id": "pjCeP74Kg4oD"
      },
      "execution_count": null,
      "outputs": []
    },
    {
      "cell_type": "code",
      "source": [
        "#train the model\n",
        "model.fit(x_train, y_train, epochs = 20)"
      ],
      "metadata": {
        "id": "jmXsZeiigBdF"
      },
      "execution_count": null,
      "outputs": []
    },
    {
      "cell_type": "code",
      "source": [
        "#Evaluate model 1 shows the loss and accuracy\n",
        "score, acc = model.evaluate(x_test, y_test, verbose = 2)\n",
        "print('Test score: ', score)\n",
        "print('Test accuracy: ', acc)"
      ],
      "metadata": {
        "id": "nXydhzSOgMPB"
      },
      "execution_count": null,
      "outputs": []
    },
    {
      "cell_type": "code",
      "source": [
        "#Number of parameters in the model\n",
        "print(model.summary())"
      ],
      "metadata": {
        "id": "YstVJ9AchxOk"
      },
      "execution_count": null,
      "outputs": []
    }
  ]
}